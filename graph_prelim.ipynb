{
 "cells": [
  {
   "cell_type": "code",
   "execution_count": 2,
   "metadata": {},
   "outputs": [
    {
     "name": "stdout",
     "output_type": "stream",
     "text": [
      "1.4.1\n"
     ]
    }
   ],
   "source": [
    "import pickle\n",
    "import networkx as nx\n",
    "import numpy as np\n",
    "import matplotlib.pyplot as plt\n",
    "import random\n",
    "import scipy\n",
    "from scipy.stats import lognorm\n",
    "from scipy.stats import norm\n",
    "import math\n",
    "#import seaborn as sns\n",
    "from random import sample\n",
    "import pandas \n",
    "import src.test_strategies\n",
    "print(scipy.__version__)"
   ]
  },
  {
   "cell_type": "code",
   "execution_count": 3,
   "metadata": {},
   "outputs": [],
   "source": [
    "graph = {}\n",
    "with open('fb_graph.pkl', 'rb') as f:\n",
    "    graph = pickle.load(f)\n",
    "G = nx.from_dict_of_dicts(graph)"
   ]
  },
  {
   "cell_type": "code",
   "execution_count": 4,
   "metadata": {},
   "outputs": [],
   "source": [
    "for i in range(len(G.nodes)):\n",
    "    G.nodes[i][\"status\"] = \"S\"\n",
    "nx.set_node_attributes(G, False, name = \"confirmed positive\")\n",
    "nx.set_node_attributes(G, False, name = \"tested\")\n",
    "nx.set_node_attributes(G, False, name = \"infected\")\n",
    "nx.set_node_attributes(G, None, name = \"onset of symptoms\")\n",
    "nx.set_edge_attributes(G, name = \"weight\", values = 1)\n",
    "\n",
    "node_deg_pairs = list(G.degree())\n",
    "node_deg_pairs.sort(key = lambda x: x[1], reverse = True)\n",
    "node_degrees = [node for node, deg in node_deg_pairs]\n",
    "G.graph['node_degrees'] = node_degrees"
   ]
  },
  {
   "cell_type": "code",
   "execution_count": null,
   "metadata": {
    "scrolled": true
   },
   "outputs": [],
   "source": [
    "G.nodes.data()"
   ]
  },
  {
   "cell_type": "code",
   "execution_count": 5,
   "metadata": {},
   "outputs": [],
   "source": [
    "quarantine_infectivity = 0.1\n",
    "confirmed_negative_infectivity = 1\n",
    "prev_tested = [set(), set(), set(), set(), set()]\n",
    "ind_to_prev_tested = 0"
   ]
  },
  {
   "cell_type": "code",
   "execution_count": 6,
   "metadata": {},
   "outputs": [],
   "source": [
    "def run_iteration(G, test = False):\n",
    "    weight = nx.get_edge_attributes(G, \"weight\")\n",
    "    \n",
    "    S_n = [n for n,v in G.nodes(data=True) if v['status'] == 'S']\n",
    "    E_n = [n for n,v in G.nodes(data=True) if v['status'] == 'E']\n",
    "    I_n = [n for n,v in G.nodes(data=True) if v['status'] == 'I']\n",
    "    H_n = [n for n,v in G.nodes(data=True) if v['status'] == 'H']\n",
    "    for i in I_n:\n",
    "        for neighbor in G.neighbors(i):\n",
    "            if G.nodes[neighbor][\"status\"] == \"S\":\n",
    "                # Multiplying by the weight of the edge is supposed to model decreased \n",
    "                # contact after a person is in quarentine\n",
    "                if random.random() < 0.004576659038901602*G[i][neighbor][\"weight\"]:\n",
    "                    G.nodes[neighbor][\"status\"] = \"E\"\n",
    "                    G.nodes[neighbor][\"days_since_E\"] = 0\n",
    "        \n",
    "    for e in E_n:\n",
    "        G.nodes[e][\"days_since_E\"] += 1\n",
    "        days_since_E = G.nodes[e][\"days_since_E\"]\n",
    "        if days_since_E == 14: # if you've been asymp for 14 days, you recover\n",
    "            G.nodes[e][\"status\"] = \"R\"\n",
    "        mu = 1.621\n",
    "        std = 0.418\n",
    "        prob = lognorm.pdf(days_since_E, s=std, scale=np.exp(mu)) * 0.8\n",
    "        if random.random() < prob:\n",
    "            G.nodes[e][\"status\"] = \"I\"\n",
    "            G.nodes[e][\"days_since_I\"] = 0\n",
    "            G.nodes[e][\"onset of symptoms\"] = random.normalvariate(5, 2.5)\n",
    "    for i in I_n:\n",
    "        G.nodes[i][\"days_since_E\"] += 1\n",
    "        G.nodes[i][\"days_since_I\"] += 1\n",
    "        days_since_I = G.nodes[i][\"days_since_I\"]\n",
    "        # Added social distancing after 5 days of being infected\n",
    "        if days_since_I > G.nodes[i][\"onset of symptoms\"]:\n",
    "            cn_edges = G.edges(i)\n",
    "            cn_edges = (e if e in weight else (e[1], e[0]) for e in cn_edges)\n",
    "            updated_edges = {e: weight[e]*quarantine_infectivity for e in cn_edges}\n",
    "            nx.set_edge_attributes(G, name = \"weight\", values = updated_edges)\n",
    "        dist = norm(10, 1) \n",
    "        prob = dist.pdf(days_since_I) * 0.1755\n",
    "        if random.random() < prob:\n",
    "            G.nodes[i][\"status\"] = \"H\"\n",
    "            G.nodes[i][\"days_since_H\"] = 0\n",
    "        if G.nodes[i][\"days_since_E\"] >= 14:\n",
    "            G.nodes[i][\"status\"] = \"R\"\n",
    "    for h in H_n:\n",
    "        G.nodes[h][\"days_since_H\"] += 1\n",
    "        G.nodes[h][\"days_since_E\"] += 1\n",
    "        if G.nodes[h][\"days_since_E\"] == 14:\n",
    "            if random.random() < 0.01:\n",
    "                G.nodes[h][\"status\"] = \"D\"\n",
    "            else:\n",
    "                G.nodes[h][\"status\"] = \"R\"\n",
    "                \n",
    "    # If we do testing, we now update the nodes depending on the test passed in \n",
    "    if test == \"random\":\n",
    "        src.test_strategies.test_strat_random_sample(G, 50)\n",
    "    elif test == \"high_connect\":\n",
    "        prev_t = prev_tested[0].union(prev_tested[1], prev_tested[2], prev_tested[3], prev_tested[4])\n",
    "        (tested, num_tested, extra_tests) = src.test_strategies.test_strat_high_contact(G, 150, 50, prev_t)\n",
    "        global ind_to_prev_tested\n",
    "        prev_tested[ind_to_prev_tested] = set(tested)\n",
    "        ind_to_prev_tested = (ind_to_prev_tested + 1)  % 5\n",
    "    elif test == \"pool_family\":\n",
    "        src.test_strategies.test_strat_pool_family(G)\n",
    "    elif test == \"most_infected\":\n",
    "        src.test_strategies.test_strat_most_infected(G,50)\n",
    "    "
   ]
  },
  {
   "cell_type": "code",
   "execution_count": 7,
   "metadata": {},
   "outputs": [],
   "source": [
    "# Choose 10 people at random to be infected initially\n",
    "T = G.copy()\n",
    "first_infected = random.sample(list(T.nodes()), 10)"
   ]
  },
  {
   "cell_type": "code",
   "execution_count": 8,
   "metadata": {},
   "outputs": [],
   "source": [
    "# Copy the graph 4 times so we can use one clean copy for each modeling iteration \n",
    "T = G.copy()\n",
    "T_1 = G.copy() \n",
    "T_2 = G.copy()\n",
    "T_3 = G.copy()\n",
    "T_4 = G.copy()\n",
    "# Also make each copy reflect the infected status from the initial infections\n",
    "for i in first_infected:\n",
    "    T.nodes[i][\"status\"] = \"I\"\n",
    "    T.nodes[i][\"days_since_E\"] = 0\n",
    "    T.nodes[i][\"days_since_I\"] = 0\n",
    "    T.nodes[i][\"onset of symptoms\"] = random.normalvariate(5, 2.5)\n",
    "for i in first_infected:\n",
    "    T_1.nodes[i][\"status\"] = \"I\"\n",
    "    T_1.nodes[i][\"days_since_E\"] = 0\n",
    "    T_1.nodes[i][\"days_since_I\"] = 0\n",
    "    T_1.nodes[i][\"onset of symptoms\"] = random.normalvariate(5, 2.5)\n",
    "for i in first_infected:\n",
    "    T_2.nodes[i][\"status\"] = \"I\"\n",
    "    T_2.nodes[i][\"days_since_E\"] = 0\n",
    "    T_2.nodes[i][\"days_since_I\"] = 0\n",
    "    T_2.nodes[i][\"onset of symptoms\"] = random.normalvariate(5, 2.5)\n",
    "for i in first_infected:\n",
    "    T_3.nodes[i][\"status\"] = \"I\"\n",
    "    T_3.nodes[i][\"days_since_E\"] = 0\n",
    "    T_3.nodes[i][\"days_since_I\"] = 0\n",
    "    T_3.nodes[i][\"onset of symptoms\"] = random.normalvariate(5, 2.5)\n",
    "for i in first_infected:\n",
    "    T_4.nodes[i][\"status\"] = \"I\"\n",
    "    T_4.nodes[i][\"days_since_E\"] = 0\n",
    "    T_4.nodes[i][\"days_since_I\"] = 0\n",
    "    T_4.nodes[i][\"onset of symptoms\"] = random.normalvariate(5, 2.5)"
   ]
  },
  {
   "cell_type": "code",
   "execution_count": null,
   "metadata": {},
   "outputs": [],
   "source": [
    "pos=nx.spring_layout(T)"
   ]
  },
  {
   "cell_type": "code",
   "execution_count": null,
   "metadata": {},
   "outputs": [],
   "source": [
    "plt.close('all')"
   ]
  },
  {
   "cell_type": "code",
   "execution_count": null,
   "metadata": {},
   "outputs": [],
   "source": [
    "iteration = 0\n",
    "for i in range(100):\n",
    "    iteration += 1\n",
    "    run_iteration(T_1, test=\"random\")\n",
    "    plt.cla()\n",
    "    plt.figure(figsize=(30,30)) \n",
    "    size=12\n",
    "    nx.draw_networkx_nodes(T_1, pos,\n",
    "                           nodelist=[n for n,v in T_1.nodes(data=True) if v['status'] == 'S'],\n",
    "                           node_color=\"#add8e6\", node_size=size)\n",
    "    nx.draw_networkx_nodes(T_1, pos,\n",
    "                           nodelist=[n for n,v in T_1.nodes(data=True) if v['status'] == 'E'],\n",
    "                           node_color=\"#FFD700\", node_size=20)\n",
    "    nx.draw_networkx_nodes(T_1, pos,\n",
    "                           nodelist=[n for n,v in T_1.nodes(data=True) if v['status'] == 'I'],\n",
    "                           node_color=\"#FF0000\", node_size=20)\n",
    "    nx.draw_networkx_nodes(T_1, pos,\n",
    "                           nodelist=[n for n,v in T_1.nodes(data=True) if v['status'] == 'R'],\n",
    "                           node_color=\"#C8FFA2\", node_size=20)\n",
    "    nx.draw_networkx_nodes(T_1, pos,\n",
    "                           nodelist=[n for n,v in T_1.nodes(data=True) if v['status'] == 'H'],\n",
    "                           node_color=\"#CC0000\", node_size=20)\n",
    "    nx.draw_networkx_nodes(T_1, pos,\n",
    "                           nodelist=[n for n,v in T_1.nodes(data=True) if v['status'] == 'D'],\n",
    "                           node_color=\"#800000\", node_size=20)\n",
    "    nx.draw_networkx_edges(T_1,pos,edge_color='#A9A9A9', width=0.3)\n",
    "    plt.savefig(\"no_testing_\" + str(iteration) + \".png\")"
   ]
  },
  {
   "cell_type": "code",
   "execution_count": 9,
   "metadata": {
    "scrolled": true
   },
   "outputs": [
    {
     "name": "stdout",
     "output_type": "stream",
     "text": [
      "Starting the no testing model\n"
     ]
    },
    {
     "ename": "TypeError",
     "evalue": "'>' not supported between instances of 'int' and 'NoneType'",
     "output_type": "error",
     "traceback": [
      "\u001b[1;31m---------------------------------------------------------------------------\u001b[0m",
      "\u001b[1;31mTypeError\u001b[0m                                 Traceback (most recent call last)",
      "\u001b[1;32m<ipython-input-9-f403840bbfd3>\u001b[0m in \u001b[0;36m<module>\u001b[1;34m\u001b[0m\n\u001b[0;32m     20\u001b[0m         \u001b[0mI_n\u001b[0m \u001b[1;33m=\u001b[0m \u001b[1;33m[\u001b[0m\u001b[0mn\u001b[0m \u001b[1;32mfor\u001b[0m \u001b[0mn\u001b[0m\u001b[1;33m,\u001b[0m\u001b[0mv\u001b[0m \u001b[1;32min\u001b[0m \u001b[0mT\u001b[0m\u001b[1;33m.\u001b[0m\u001b[0mnodes\u001b[0m\u001b[1;33m(\u001b[0m\u001b[0mdata\u001b[0m\u001b[1;33m=\u001b[0m\u001b[1;32mTrue\u001b[0m\u001b[1;33m)\u001b[0m \u001b[1;32mif\u001b[0m \u001b[0mv\u001b[0m\u001b[1;33m[\u001b[0m\u001b[1;34m'status'\u001b[0m\u001b[1;33m]\u001b[0m \u001b[1;33m==\u001b[0m \u001b[1;34m'I'\u001b[0m\u001b[1;33m]\u001b[0m\u001b[1;33m\u001b[0m\u001b[1;33m\u001b[0m\u001b[0m\n\u001b[0;32m     21\u001b[0m         \u001b[0minfected_num\u001b[0m\u001b[1;33m.\u001b[0m\u001b[0mappend\u001b[0m\u001b[1;33m(\u001b[0m\u001b[0mlen\u001b[0m\u001b[1;33m(\u001b[0m\u001b[0mI_n\u001b[0m\u001b[1;33m)\u001b[0m\u001b[1;33m)\u001b[0m\u001b[1;33m\u001b[0m\u001b[1;33m\u001b[0m\u001b[0m\n\u001b[1;32m---> 22\u001b[1;33m         \u001b[0mrun_iteration\u001b[0m\u001b[1;33m(\u001b[0m\u001b[0mT\u001b[0m\u001b[1;33m)\u001b[0m\u001b[1;33m\u001b[0m\u001b[1;33m\u001b[0m\u001b[0m\n\u001b[0m\u001b[0;32m     23\u001b[0m     \u001b[0mno_test_df\u001b[0m\u001b[1;33m[\u001b[0m\u001b[0mj\u001b[0m\u001b[1;33m]\u001b[0m \u001b[1;33m=\u001b[0m \u001b[0minfected_num\u001b[0m\u001b[1;33m\u001b[0m\u001b[1;33m\u001b[0m\u001b[0m\n\u001b[0;32m     24\u001b[0m     \u001b[1;32mif\u001b[0m \u001b[0mj\u001b[0m \u001b[1;33m%\u001b[0m \u001b[1;36m10\u001b[0m \u001b[1;33m==\u001b[0m\u001b[1;36m0\u001b[0m\u001b[1;33m:\u001b[0m\u001b[1;33m\u001b[0m\u001b[1;33m\u001b[0m\u001b[0m\n",
      "\u001b[1;32m<ipython-input-6-b9a6bc374ce5>\u001b[0m in \u001b[0;36mrun_iteration\u001b[1;34m(G, test)\u001b[0m\n\u001b[0;32m     32\u001b[0m         \u001b[0mdays_since_I\u001b[0m \u001b[1;33m=\u001b[0m \u001b[0mG\u001b[0m\u001b[1;33m.\u001b[0m\u001b[0mnodes\u001b[0m\u001b[1;33m[\u001b[0m\u001b[0mi\u001b[0m\u001b[1;33m]\u001b[0m\u001b[1;33m[\u001b[0m\u001b[1;34m\"days_since_I\"\u001b[0m\u001b[1;33m]\u001b[0m\u001b[1;33m\u001b[0m\u001b[1;33m\u001b[0m\u001b[0m\n\u001b[0;32m     33\u001b[0m         \u001b[1;31m# Added social distancing after 5 days of being infected\u001b[0m\u001b[1;33m\u001b[0m\u001b[1;33m\u001b[0m\u001b[1;33m\u001b[0m\u001b[0m\n\u001b[1;32m---> 34\u001b[1;33m         \u001b[1;32mif\u001b[0m \u001b[0mdays_since_I\u001b[0m \u001b[1;33m>\u001b[0m \u001b[0mG\u001b[0m\u001b[1;33m.\u001b[0m\u001b[0mnodes\u001b[0m\u001b[1;33m[\u001b[0m\u001b[0mi\u001b[0m\u001b[1;33m]\u001b[0m\u001b[1;33m[\u001b[0m\u001b[1;34m\"onset of symptoms\"\u001b[0m\u001b[1;33m]\u001b[0m\u001b[1;33m:\u001b[0m\u001b[1;33m\u001b[0m\u001b[1;33m\u001b[0m\u001b[0m\n\u001b[0m\u001b[0;32m     35\u001b[0m             \u001b[0mcn_edges\u001b[0m \u001b[1;33m=\u001b[0m \u001b[0mG\u001b[0m\u001b[1;33m.\u001b[0m\u001b[0medges\u001b[0m\u001b[1;33m(\u001b[0m\u001b[0mi\u001b[0m\u001b[1;33m)\u001b[0m\u001b[1;33m\u001b[0m\u001b[1;33m\u001b[0m\u001b[0m\n\u001b[0;32m     36\u001b[0m             \u001b[0mcn_edges\u001b[0m \u001b[1;33m=\u001b[0m \u001b[1;33m(\u001b[0m\u001b[0me\u001b[0m \u001b[1;32mif\u001b[0m \u001b[0me\u001b[0m \u001b[1;32min\u001b[0m \u001b[0mweight\u001b[0m \u001b[1;32melse\u001b[0m \u001b[1;33m(\u001b[0m\u001b[0me\u001b[0m\u001b[1;33m[\u001b[0m\u001b[1;36m1\u001b[0m\u001b[1;33m]\u001b[0m\u001b[1;33m,\u001b[0m \u001b[0me\u001b[0m\u001b[1;33m[\u001b[0m\u001b[1;36m0\u001b[0m\u001b[1;33m]\u001b[0m\u001b[1;33m)\u001b[0m \u001b[1;32mfor\u001b[0m \u001b[0me\u001b[0m \u001b[1;32min\u001b[0m \u001b[0mcn_edges\u001b[0m\u001b[1;33m)\u001b[0m\u001b[1;33m\u001b[0m\u001b[1;33m\u001b[0m\u001b[0m\n",
      "\u001b[1;31mTypeError\u001b[0m: '>' not supported between instances of 'int' and 'NoneType'"
     ]
    }
   ],
   "source": [
    "# Store the number of infections\n",
    "\n",
    "no_test_df = pandas.DataFrame(index = [i for i in range(50)], columns = [j for j in range(100)])\n",
    "random_test_df = pandas.DataFrame(index = [i for i in range(50)], columns = [j for j in range(100)])\n",
    "connect_test_df = pandas.DataFrame(index = [i for i in range(50)], columns = [j for j in range(50)])\n",
    "infected_test_df = pandas.DataFrame(index = [i for i in range(50)], columns = [j for j in range(50)])\n",
    "\n",
    "# Run each model for 50 time steps\n",
    "print(\"Starting the no testing model\")\n",
    "for j in range(50):\n",
    "    infected_num = []\n",
    "    T = G.copy()\n",
    "    first_infected = random.sample(list(T.nodes()), 10)\n",
    "    for infected in first_infected:\n",
    "        T.nodes[infected][\"status\"] = \"I\"\n",
    "        T.nodes[infected][\"days_since_E\"] = 0\n",
    "        T.nodes[infected][\"days_since_I\"] = 0\n",
    "        T.nodes[i][\"onset of symptoms\"] = random.normalvariate(5, 2.5)\n",
    "    for i in range(50):\n",
    "        I_n = [n for n,v in T.nodes(data=True) if v['status'] == 'I']\n",
    "        infected_num.append(len(I_n))\n",
    "        run_iteration(T)\n",
    "    no_test_df[j] = infected_num\n",
    "    if j % 10 ==0:\n",
    "        print(\"done\", j, \"iter\")\n",
    "\n",
    "print(\"Starting the random testing model\")\n",
    "for j in range(50):\n",
    "    infected_num_random = []\n",
    "    T_1 = G.copy() \n",
    "    first_infected = random.sample(list(T_1.nodes()), 10)\n",
    "    for i in first_infected:\n",
    "        T_1.nodes[i][\"status\"] = \"I\"\n",
    "        T_1.nodes[i][\"days_since_E\"] = 0\n",
    "        T_1.nodes[i][\"days_since_I\"] = 0\n",
    "        T_1.nodes[i][\"onset of symptoms\"] = random.normalvariate(5, 2.5)\n",
    "    for i in range(50):\n",
    "        I_n = [n for n,v in T_1.nodes(data=True) if v['status'] == 'I']\n",
    "        infected_num_random.append(len(I_n))\n",
    "        run_iteration(T_1, \"random\")\n",
    "    random_test_df[j] = infected_num_random\n",
    "    if j % 10 ==0:\n",
    "        print(\"done\", j, \"iter\")\n",
    "\n",
    "print(\"Starting the testing highly connected people model\")\n",
    "for j in range(50):\n",
    "    infected_num_connect = []\n",
    "    T_2 = G.copy()\n",
    "    first_infected = random.sample(list(T_2.nodes()), 10)\n",
    "    for i in first_infected:\n",
    "        T_2.nodes[i][\"status\"] = \"I\"\n",
    "        T_2.nodes[i][\"days_since_E\"] = 0\n",
    "        T_2.nodes[i][\"days_since_I\"] = 0\n",
    "        T_2.nodes[i][\"onset of symptoms\"] = random.normalvariate(5, 2.5)\n",
    "    for i in range(50):\n",
    "        I_n = [n for n,v in T_2.nodes(data=True) if v['status'] == 'I']\n",
    "        infected_num_connect.append(len(I_n))\n",
    "        run_iteration(T_2, \"high_connect\")\n",
    "    connect_test_df[j] = infected_num_connect\n",
    "    if j % 10 ==0:\n",
    "        print(\"done\", j, \"iter\")\n",
    "        \n",
    "print(\"Starting the testing most infected people model\")\n",
    "for j in range(50):\n",
    "    infected_num_infect = []\n",
    "    T_4 = G.copy()\n",
    "    first_infected = random.sample(list(T_4.nodes()), 10)\n",
    "    for i in first_infected:\n",
    "        T_4.nodes[i][\"status\"] = \"I\"\n",
    "        T_4.nodes[i][\"days_since_E\"] = 0\n",
    "        T_4.nodes[i][\"days_since_I\"] = 0\n",
    "        T_4.nodes[i][\"onset of symptoms\"] = random.normalvariate(5, 2.5)\n",
    "    for i in range(50):\n",
    "        I_n = [n for n,v in T_4.nodes(data=True) if v['status'] == 'I']\n",
    "        infected_num_infect.append(len(I_n))\n",
    "        run_iteration(T_4, \"most_infected\")\n",
    "    infected_test_df[j] = infected_num_infect\n",
    "    if j % 10 ==0:\n",
    "        print(\"done\", j, \"iter\")\n",
    "        \n",
    "#TODO: This one takes a long time to run because we are finding the cliques each time,\n",
    "# instead we should probably change it so we find the cliques once, store it globally \n",
    "# or pass it into the function as a parameter to speed up runtime\n",
    "        \n",
    "# for i in range(1):\n",
    "#     I_n = [n for n,v in T_3.nodes(data=True) if v['status'] == 'I']\n",
    "#     infected_num_family.append(len(I_n))\n",
    "#     run_iteration(T_3, \"pool_family\")"
   ]
  },
  {
   "cell_type": "code",
   "execution_count": null,
   "metadata": {},
   "outputs": [],
   "source": [
    "no_test_df.to_csv(\"simulations/no_test_infected_quarentine.csv\")\n",
    "random_test_df.to_csv(\"simulations/random_test_infected_quarentine.csv\")\n",
    "connect_test_df.to_csv(\"simulations/connect_norm_test_infected_quarentine.csv\")\n",
    "infected_test_df.to_csv(\"simulations/infected_test_infected_quarentine.csv\")"
   ]
  },
  {
   "cell_type": "code",
   "execution_count": null,
   "metadata": {},
   "outputs": [],
   "source": [
    "S_n = [n for n,v in T.nodes(data=True) if v['status'] == 'S']\n",
    "E_n = [n for n,v in T.nodes(data=True) if v['status'] == 'E']\n",
    "I_n = [n for n,v in T.nodes(data=True) if v['status'] == 'I']\n",
    "H_n = [n for n,v in T.nodes(data=True) if v['status'] == 'H']"
   ]
  },
  {
   "cell_type": "code",
   "execution_count": null,
   "metadata": {},
   "outputs": [],
   "source": [
    "print(E_n)\n",
    "print(I_n)\n",
    "print(H_n)"
   ]
  },
  {
   "cell_type": "code",
   "execution_count": null,
   "metadata": {},
   "outputs": [],
   "source": [
    "plt.plot([i for i in range(50)], infected_num[0:50], label = \"Untested\")\n",
    "plt.plot([i for i in range(50)], infected_num_random[0:50], label = \"Random testing\")\n",
    "plt.plot([i for i in range(50)], infected_num_connect[0:50], label = \"Highest Connected testing\")\n",
    "plt.plot([i for i in range(50)], infected_num_infect[0:50], label = \"Most Infected testing\")\n",
    "\n",
    "plt.legend()\n",
    "plt.show()"
   ]
  },
  {
   "cell_type": "code",
   "execution_count": null,
   "metadata": {},
   "outputs": [],
   "source": [
    "len(test_strat_most_infected(T,50))"
   ]
  },
  {
   "cell_type": "code",
   "execution_count": null,
   "metadata": {},
   "outputs": [],
   "source": [
    "print(\"Starting the testing most infected people model\")\n",
    "for j in range(5):\n",
    "    infected_num_infect = []\n",
    "    T_4 = G.copy()\n",
    "    first_infected = random.sample(list(T_4.nodes()), 10)\n",
    "    for i in first_infected:\n",
    "        T_4.nodes[i][\"status\"] = \"I\"\n",
    "        T_4.nodes[i][\"days_since_E\"] = 0\n",
    "        T_4.nodes[i][\"days_since_I\"] = 0\n",
    "    for i in range(50):\n",
    "        I_n = [n for n,v in T_4.nodes(data=True) if v['status'] == 'I']\n",
    "        infected_num_infect.append(len(I_n))\n",
    "        run_iteration(T_4, \"most_infected\")\n",
    "    infected_test_df[j] = infected_num_infect\n",
    "    if j % 1 ==0:\n",
    "        print(\"done\", j, \"iter\")"
   ]
  },
  {
   "cell_type": "code",
   "execution_count": null,
   "metadata": {},
   "outputs": [],
   "source": []
  }
 ],
 "metadata": {
  "kernelspec": {
   "display_name": "Python 3",
   "language": "python",
   "name": "python3"
  },
  "language_info": {
   "codemirror_mode": {
    "name": "ipython",
    "version": 3
   },
   "file_extension": ".py",
   "mimetype": "text/x-python",
   "name": "python",
   "nbconvert_exporter": "python",
   "pygments_lexer": "ipython3",
   "version": "3.7.6"
  }
 },
 "nbformat": 4,
 "nbformat_minor": 2
}
